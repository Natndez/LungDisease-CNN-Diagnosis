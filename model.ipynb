{
 "cells": [
  {
   "cell_type": "markdown",
   "metadata": {},
   "source": [
    "### Lung Disease Diagnosis Using Chest X-rays"
   ]
  },
  {
   "cell_type": "code",
   "execution_count": 4,
   "metadata": {},
   "outputs": [],
   "source": [
    "# Importing All required packages\n",
    "import tensorflow as tf\n",
    "import cv2\n",
    "import numpy as np\n",
    "import pandas as pd\n",
    "import os\n",
    "import seaborn as sns\n",
    "from sklearn.metrics import confusion_matrix\n",
    "import matplotlib.pyplot as plt\n",
    "from sklearn.model_selection import train_test_split\n",
    "from tensorflow.keras.models import Sequential\n",
    "from tensorflow.keras.layers import Conv2D, MaxPooling2D, Flatten, Dense, Dropout, BatchNormalization, GlobalAveragePooling2D, GlobalMaxPooling2D\n",
    "from tensorflow.keras.preprocessing.image import load_img, img_to_array\n",
    "\n",
    "from tensorflow import keras\n",
    "\n",
    "from tensorflow.keras.preprocessing.image import load_img, img_to_array\n",
    "from tensorflow.keras.preprocessing.image import ImageDataGenerator"
   ]
  },
  {
   "cell_type": "code",
   "execution_count": 11,
   "metadata": {},
   "outputs": [],
   "source": [
    "# Storing directory paths\n",
    "cv19_dir = 'X-RayDataset/COVID19'\n",
    "pn_dir = 'X-RayDataset/PNEUMONIA'\n",
    "tb_dir = 'X-RayDataset/TURBERCULOSIS'\n",
    "normal_dir = 'X-RayDataset/NORMAL'\n",
    "\n",
    "# Storing Image sizes\n",
    "img_width, img_height = 150, 150"
   ]
  },
  {
   "cell_type": "code",
   "execution_count": 8,
   "metadata": {},
   "outputs": [],
   "source": [
    "# Function to load images\n",
    "def load_images(directory, label):\n",
    "    images = []\n",
    "    labels = []\n",
    "    for filename in os.listdir(directory):\n",
    "        img_path = os.path.join(directory, filename) # getting individual img paths\n",
    "        img = load_img(img_path, target_size=(img_height, img_width)) # imposing height and width\n",
    "        img_array = img_to_array(img) # converting to an image array\n",
    "        images.append(img_array) # adding image to images[]\n",
    "        labels.append(label) # adding label to labels[]\n",
    "    return images, labels"
   ]
  },
  {
   "cell_type": "code",
   "execution_count": 21,
   "metadata": {},
   "outputs": [],
   "source": [
    "# Loading each directory (May need to reshape due to data imbalances)\n",
    "cv19_images, cv19_labels = load_images(cv19_dir, 'COVID')\n",
    "pn_images, pn_labels = load_images(pn_dir, 'PNEUMONIA')\n",
    "tb_images, tb_labels = load_images(tb_dir, 'TUBERCULOSIS')\n",
    "normal_images, normal_labels = load_images(normal_dir, 'NORMAL')\n"
   ]
  },
  {
   "cell_type": "code",
   "execution_count": 27,
   "metadata": {},
   "outputs": [
    {
     "name": "stdout",
     "output_type": "stream",
     "text": [
      "Length of each array:  500 500 500 500 500 500 500 500\n"
     ]
    }
   ],
   "source": [
    "# Slicing to have only 500 images for each category (to prevent imbalances)\n",
    "cv19_images, cv19_labels = cv19_images[:500], cv19_labels[:500]\n",
    "pn_images, pn_labels = pn_images[:500], pn_labels[:500]\n",
    "tb_images, tb_labels = tb_images[:500], tb_labels[:500]\n",
    "normal_images, normal_labels = normal_images[:500], normal_labels[:500] \n",
    "\n",
    "# Making sure no errors\n",
    "print(\n",
    "    \"Length of each array: \",\n",
    "    len(cv19_images),\n",
    "    len(cv19_labels),\n",
    "    len(pn_images),\n",
    "    len(pn_labels),\n",
    "    len(tb_images),\n",
    "    len(tb_labels),\n",
    "    len(normal_images),\n",
    "    len(normal_labels)\n",
    ")"
   ]
  }
 ],
 "metadata": {
  "kernelspec": {
   "display_name": "Python 3",
   "language": "python",
   "name": "python3"
  },
  "language_info": {
   "codemirror_mode": {
    "name": "ipython",
    "version": 3
   },
   "file_extension": ".py",
   "mimetype": "text/x-python",
   "name": "python",
   "nbconvert_exporter": "python",
   "pygments_lexer": "ipython3",
   "version": "3.12.3"
  }
 },
 "nbformat": 4,
 "nbformat_minor": 2
}
